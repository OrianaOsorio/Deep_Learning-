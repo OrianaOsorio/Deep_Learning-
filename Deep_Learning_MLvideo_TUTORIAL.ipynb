{
  "nbformat": 4,
  "nbformat_minor": 0,
  "metadata": {
    "colab": {
      "name": "Copia de Deep Learning-MLvideo-TUTORIAL",
      "provenance": [],
      "collapsed_sections": [],
      "include_colab_link": true
    },
    "kernelspec": {
      "name": "python3",
      "display_name": "Python 3"
    },
    "accelerator": "GPU"
  },
  "cells": [
    {
      "cell_type": "markdown",
      "metadata": {
        "id": "view-in-github",
        "colab_type": "text"
      },
      "source": [
        "<a href=\"https://colab.research.google.com/github/OrianaOsorio/Deep_Learning-/blob/main/Deep_Learning_MLvideo_TUTORIAL.ipynb\" target=\"_parent\"><img src=\"https://colab.research.google.com/assets/colab-badge.svg\" alt=\"Open In Colab\"/></a>"
      ]
    },
    {
      "cell_type": "markdown",
      "metadata": {
        "id": "a2I72aOlVVzE"
      },
      "source": [
        "# Deep Learning Tutorial\n",
        "Consiste en cinco pasos sencillos, los cuales son piezas clave en todos los modelos de deep learning.\n",
        "\n",
        "Step 1 : Recolección de datos de entrenamiento y de prueba, se recomienda, una gran cantidad de datos para mejorar la precisión en el modelo\n",
        "\n",
        "Step 2: Construcción del modelo a utilizar. Se mostrará que es realmente sencillo su codificación sin embargo la matemática involucrada es algo compleja que requiere años de estudios. involucra el modelo del entramado de la red, funciones de activación, función de error y optimización del error. \n",
        "\n",
        "Step 3: Entrenamiento de la Red, en este pasó es necesario entender el concepto de epoch, y de overfitty o sobre entrenamiento.\n",
        "\n",
        "Step 4: Evaluación de nuestro modelo, usando los datos de prueba obtenidos en el paso 1.\n",
        "\n",
        "Step 5: Predicción. Con la evaluación dada conforme, ya podemos pasar al paso de predicción o mejor dicho a la aplicación o al menos alistarnos para ello.\n",
        " \n"
      ]
    },
    {
      "cell_type": "markdown",
      "metadata": {
        "id": "99c8YjyZY6w5"
      },
      "source": [
        "**Step 1 Recolectar una base de datos (dataset)**"
      ]
    },
    {
      "cell_type": "code",
      "metadata": {
        "id": "L2oPYXhxZrVk",
        "outputId": "ab246f78-9373-4f1c-e970-010e4f6f19d6",
        "colab": {
          "base_uri": "https://localhost:8080/",
          "height": 35
        }
      },
      "source": [
        "import tensorflow as tf\n",
        "print(tf.__version__)"
      ],
      "execution_count": null,
      "outputs": [
        {
          "output_type": "stream",
          "text": [
            "2.3.0\n"
          ],
          "name": "stdout"
        }
      ]
    },
    {
      "cell_type": "code",
      "metadata": {
        "id": "0B4B6LVDaOAs",
        "outputId": "614e0301-c7e7-4640-8a85-f52843dbcba7",
        "colab": {
          "base_uri": "https://localhost:8080/",
          "height": 244
        }
      },
      "source": [
        "#===============================================================#\n",
        "##Código para reproducir resultados los mas proximo posible\n",
        "# Seed value (can actually be different for each attribution step)\n",
        "seed_value= 0\n",
        "\n",
        "# 1. Set `PYTHONHASHSEED` environment variable at a fixed value\n",
        "import os\n",
        "os.environ['PYTHONHASHSEED']=str(seed_value)\n",
        "\n",
        "# 2. Set `python` built-in pseudo-random generator at a fixed value\n",
        "import random\n",
        "random.seed(seed_value)\n",
        "\n",
        "# 3. Set `numpy` pseudo-random generator at a fixed value\n",
        "import numpy as np\n",
        "np.random.seed(seed_value)\n",
        "\n",
        "# 4. Set `tensorflow` pseudo-random generator at a fixed value\n",
        "import tensorflow as tf\n",
        "tf.set_random_seed(seed_value)\n",
        "\n",
        "# 5. Configure a new global `tensorflow` session\n",
        "from keras import backend as K\n",
        "session_conf = tf.ConfigProto(intra_op_parallelism_threads=1, inter_op_parallelism_threads=1)\n",
        "sess = tf.Session(graph=tf.get_default_graph(), config=session_conf)\n",
        "K.set_session(sess)\n",
        "\n",
        "#===============================================================#\n",
        "\n",
        "from keras.datasets import mnist\n",
        "from keras.models import Sequential\n",
        "from keras.layers import Dense, Conv2D, MaxPooling2D, Dropout, Flatten\n",
        "import matplotlib.pyplot as plt\n",
        "from sklearn.model_selection import train_test_split\n",
        "\n",
        "# Step 1 Recolectar una base de datos (dataset)\n",
        "# Traing and testing data\n",
        "(train_images, train_labels), (test_images, test_labels) = mnist.load_data()\n",
        "# Normalizamos los datos (accelera el entrenamiento)\n",
        "train_images , test_images = train_images/255 , test_images /255\n",
        "X_train, X_val, y_train, y_val = train_test_split( train_images, train_labels, test_size=0.2, random_state=43,shuffle=True)\n"
      ],
      "execution_count": null,
      "outputs": [
        {
          "output_type": "error",
          "ename": "AttributeError",
          "evalue": "ignored",
          "traceback": [
            "\u001b[0;31m---------------------------------------------------------------------------\u001b[0m",
            "\u001b[0;31mAttributeError\u001b[0m                            Traceback (most recent call last)",
            "\u001b[0;32m<ipython-input-2-3152eefeea57>\u001b[0m in \u001b[0;36m<module>\u001b[0;34m()\u001b[0m\n\u001b[1;32m     18\u001b[0m \u001b[0;31m# 4. Set `tensorflow` pseudo-random generator at a fixed value\u001b[0m\u001b[0;34m\u001b[0m\u001b[0;34m\u001b[0m\u001b[0;34m\u001b[0m\u001b[0m\n\u001b[1;32m     19\u001b[0m \u001b[0;32mimport\u001b[0m \u001b[0mtensorflow\u001b[0m \u001b[0;32mas\u001b[0m \u001b[0mtf\u001b[0m\u001b[0;34m\u001b[0m\u001b[0;34m\u001b[0m\u001b[0m\n\u001b[0;32m---> 20\u001b[0;31m \u001b[0mtf\u001b[0m\u001b[0;34m.\u001b[0m\u001b[0mset_random_seed\u001b[0m\u001b[0;34m(\u001b[0m\u001b[0mseed_value\u001b[0m\u001b[0;34m)\u001b[0m\u001b[0;34m\u001b[0m\u001b[0;34m\u001b[0m\u001b[0m\n\u001b[0m\u001b[1;32m     21\u001b[0m \u001b[0;34m\u001b[0m\u001b[0m\n\u001b[1;32m     22\u001b[0m \u001b[0;31m# 5. Configure a new global `tensorflow` session\u001b[0m\u001b[0;34m\u001b[0m\u001b[0;34m\u001b[0m\u001b[0;34m\u001b[0m\u001b[0m\n",
            "\u001b[0;31mAttributeError\u001b[0m: module 'tensorflow' has no attribute 'set_random_seed'"
          ]
        }
      ]
    },
    {
      "cell_type": "code",
      "metadata": {
        "id": "8uLHc2zda2b0",
        "cellView": "form",
        "outputId": "a3762cf6-f5f8-4391-a44c-20aa899ef1d7",
        "colab": {
          "base_uri": "https://localhost:8080/",
          "height": 320
        }
      },
      "source": [
        "#@title Visualizando de la base de datos X_train { run: \"auto\" }\n",
        "Posición = 14069 #@param {type:\"slider\", min:0, max:47999, step:1}\n",
        "n = Posición # indice de prueba\n",
        "\n",
        "#print(train_images[0])\n",
        "print(\"Cantidad de muestras: \",len(y_train))\n",
        "print(\"Dimensiones de cada imagen :\",X_train[0].shape)\n",
        "print(\"Label: \",y_train[n])\n",
        "_=plt.imshow(X_train[n])"
      ],
      "execution_count": null,
      "outputs": [
        {
          "output_type": "stream",
          "text": [
            "Cantidad de muestras:  48000\n",
            "Dimensiones de cada imagen : (28, 28)\n",
            "Label:  6\n"
          ],
          "name": "stdout"
        },
        {
          "output_type": "display_data",
          "data": {
            "image/png": "[encoded data removed]",
            "text/plain": [
              "<Figure size 432x288 with 1 Axes>"
            ]
          },
          "metadata": {
            "tags": []
          }
        }
      ]
    },
    {
      "cell_type": "markdown",
      "metadata": {
        "id": "4mw6KPkxZBxo"
      },
      "source": [
        "**Step 2 : Construir tu modelo**"
      ]
    },
    {
      "cell_type": "code",
      "metadata": {
        "id": "cspe8yBS9ISn",
        "outputId": "e60179ee-d21f-415f-dacd-1489d9b6a501",
        "colab": {
          "base_uri": "https://localhost:8080/",
          "height": 486
        }
      },
      "source": [
        "# Step 2 : Construir tu modelo\n",
        "model = Sequential()\n",
        "model.add(Flatten(input_shape=[28,28]))\n",
        "model.add(Dense(512, activation = tf.nn.relu))#, input_shape=(784,)))\n",
        "model.add(Dense(256, activation = tf.nn.relu))\n",
        "model.add(Dense(10,activation = tf.nn.softmax)) \n",
        "# softmax = Genera una salida con una distribución de probabilidad dentro de  [0 , 1]\n",
        "# en donde la suma de todos es 1. Usado para clasificacion multiclase\n",
        "\n",
        "# Parte final del modelo (optimización del error) \n",
        "# Basicamente Distribución de probabilidad de la predicción \n",
        "# Loss = es lo que la red optimizará en el entrenamiento\n",
        "#    No se preocupen 'categorical_crossentropy' es solo una palabra bonita XD\n",
        "#    Lo que literalmente hace es comparar la distribución de probabilidad que \n",
        "#    entrega la red neuronal con los datos de entrenamiento. \n",
        "# optimizer = es el metodo con el que se entrenara la red neuronal (existen muchos)\n",
        "#    basicamente no hay que preocuparse por la matemática detras\n",
        "\n",
        "model.compile(loss = 'sparse_categorical_crossentropy', optimizer = 'adam', metrics=['accuracy'])\n",
        "model.summary()"
      ],
      "execution_count": null,
      "outputs": [
        {
          "output_type": "stream",
          "text": [
            "WARNING:tensorflow:From /usr/local/lib/python3.6/dist-packages/keras/backend/tensorflow_backend.py:66: The name tf.get_default_graph is deprecated. Please use tf.compat.v1.get_default_graph instead.\n",
            "\n",
            "WARNING:tensorflow:From /usr/local/lib/python3.6/dist-packages/keras/backend/tensorflow_backend.py:541: The name tf.placeholder is deprecated. Please use tf.compat.v1.placeholder instead.\n",
            "\n",
            "WARNING:tensorflow:From /usr/local/lib/python3.6/dist-packages/keras/backend/tensorflow_backend.py:4432: The name tf.random_uniform is deprecated. Please use tf.random.uniform instead.\n",
            "\n",
            "WARNING:tensorflow:From /usr/local/lib/python3.6/dist-packages/keras/optimizers.py:793: The name tf.train.Optimizer is deprecated. Please use tf.compat.v1.train.Optimizer instead.\n",
            "\n",
            "WARNING:tensorflow:From /usr/local/lib/python3.6/dist-packages/keras/backend/tensorflow_backend.py:3622: The name tf.log is deprecated. Please use tf.math.log instead.\n",
            "\n",
            "Model: \"sequential_1\"\n",
            "_________________________________________________________________\n",
            "Layer (type)                 Output Shape              Param #   \n",
            "=================================================================\n",
            "flatten_1 (Flatten)          (None, 784)               0         \n",
            "_________________________________________________________________\n",
            "dense_1 (Dense)              (None, 512)               401920    \n",
            "_________________________________________________________________\n",
            "dense_2 (Dense)              (None, 256)               131328    \n",
            "_________________________________________________________________\n",
            "dense_3 (Dense)              (None, 10)                2570      \n",
            "=================================================================\n",
            "Total params: 535,818\n",
            "Trainable params: 535,818\n",
            "Non-trainable params: 0\n",
            "_________________________________________________________________\n"
          ],
          "name": "stdout"
        }
      ]
    },
    {
      "cell_type": "markdown",
      "metadata": {
        "id": "fDLW1HK6ZElw"
      },
      "source": [
        "**Step 3 Entrenar la red (train)**"
      ]
    },
    {
      "cell_type": "code",
      "metadata": {
        "id": "OPbXKM2uAVxj",
        "outputId": "3ef32734-3fd3-4d80-95b2-c38101db1106",
        "colab": {
          "base_uri": "https://localhost:8080/",
          "height": 348
        }
      },
      "source": [
        "# Step 3 Entrenar la red (train)\n",
        "# epochs = significa un barrido de todos los datos de entranamiento. Lo que \n",
        "#   tenemos ahora son 60 000 imagenes, asi que en cada entrenamiento la red\n",
        "#   barre con todos los 60 000 datos.\n",
        "# Loss == Error (en deep learning) X_train, X_val, y_train, y_val\n",
        "epochs = 6\n",
        "history = model.fit(X_train, y_train, epochs = epochs,validation_data=(X_val,y_val),shuffle=False)"
      ],
      "execution_count": null,
      "outputs": [
        {
          "output_type": "stream",
          "text": [
            "WARNING:tensorflow:From /usr/local/lib/python3.6/dist-packages/tensorflow/python/ops/math_grad.py:1250: add_dispatch_support.<locals>.wrapper (from tensorflow.python.ops.array_ops) is deprecated and will be removed in a future version.\n",
            "Instructions for updating:\n",
            "Use tf.where in 2.0, which has the same broadcast rule as np.where\n",
            "WARNING:tensorflow:From /usr/local/lib/python3.6/dist-packages/keras/backend/tensorflow_backend.py:1033: The name tf.assign_add is deprecated. Please use tf.compat.v1.assign_add instead.\n",
            "\n",
            "Train on 48000 samples, validate on 12000 samples\n",
            "Epoch 1/6\n",
            "48000/48000 [==============================] - 12s 250us/step - loss: 0.2029 - acc: 0.9386 - val_loss: 0.1188 - val_acc: 0.9626\n",
            "Epoch 2/6\n",
            "48000/48000 [==============================] - 8s 176us/step - loss: 0.0851 - acc: 0.9744 - val_loss: 0.0978 - val_acc: 0.9713\n",
            "Epoch 3/6\n",
            "48000/48000 [==============================] - 8s 166us/step - loss: 0.0533 - acc: 0.9836 - val_loss: 0.0955 - val_acc: 0.9725\n",
            "Epoch 4/6\n",
            "48000/48000 [==============================] - 8s 173us/step - loss: 0.0374 - acc: 0.9883 - val_loss: 0.1173 - val_acc: 0.9702\n",
            "Epoch 5/6\n",
            "48000/48000 [==============================] - 8s 170us/step - loss: 0.0331 - acc: 0.9890 - val_loss: 0.1050 - val_acc: 0.9730\n",
            "Epoch 6/6\n",
            "48000/48000 [==============================] - 8s 171us/step - loss: 0.0286 - acc: 0.9906 - val_loss: 0.1226 - val_acc: 0.9733\n"
          ],
          "name": "stdout"
        }
      ]
    },
    {
      "cell_type": "markdown",
      "metadata": {
        "id": "6T626TNRZHJo"
      },
      "source": [
        "**Step 4 Evaluar el modelo (TEST )**"
      ]
    },
    {
      "cell_type": "code",
      "metadata": {
        "id": "ellif5cWdO7T",
        "outputId": "b8c77a03-c87c-4227-d6b8-ca4f98762fbf",
        "colab": {
          "base_uri": "https://localhost:8080/",
          "height": 67
        }
      },
      "source": [
        "# Step 4 Evaluar el modelo (Test )\n",
        "loss, accuracy = model.evaluate(test_images, test_labels)\n",
        "print('Accuracy_test_final% =', accuracy*100) # Es la precisión del modelo ya entrenado\n",
        "print('loss      =', loss) # Error del modelo ya entrenado con respecto a nuestro datos de prueba\n"
      ],
      "execution_count": null,
      "outputs": [
        {
          "output_type": "stream",
          "text": [
            "10000/10000 [==============================] - 0s 39us/step\n",
            "Accuracy_test_final% = 97.87\n",
            "loss      = 0.09064185261679086\n"
          ],
          "name": "stdout"
        }
      ]
    },
    {
      "cell_type": "code",
      "metadata": {
        "id": "PsJnixTNQcA3",
        "outputId": "fb7c8d4b-b35d-40bb-a68e-bdd2a8463ed2",
        "colab": {
          "base_uri": "https://localhost:8080/",
          "height": 824
        }
      },
      "source": [
        "# Graficando los indicadores de rendimiento\n",
        "# se toma el más óptimo y se vuelve a entrenar con los hiperparámetros óptimos\n",
        "plt.figure(0)\n",
        "plt.plot(history.history['acc'],'r')\n",
        "plt.plot(history.history['val_acc'],'g')\n",
        "plt.xticks(np.arange(0, epochs, 1.0))\n",
        "plt.rcParams['figure.figsize'] = (8, 6)\n",
        "plt.xlabel(\"Num of Epochs\")\n",
        "plt.ylabel(\"Accuracy\")\n",
        "plt.title(\"Training Accuracy vs Validation Accuracy\")\n",
        "plt.legend(['train','validation'])\n",
        "print(\"Acc_val_max (Epoch)= \",np.argmax(history.history['val_acc'])+1)\n",
        "print(\"Acc_val_max% = \",np.max(history.history['val_acc'])*100)\n",
        " \n",
        " \n",
        "plt.figure(1)\n",
        "plt.plot(history.history['loss'],'r')\n",
        "plt.plot(history.history['val_loss'],'g')\n",
        "plt.xticks(np.arange(0, epochs, 1.0))\n",
        "plt.rcParams['figure.figsize'] = (8, 6)\n",
        "plt.xlabel(\"Num of Epochs\")\n",
        "plt.ylabel(\"Loss\")\n",
        "plt.title(\"Training Loss vs Validation Loss\")\n",
        "plt.legend(['train','validation'])\n",
        " \n",
        " \n",
        "plt.show()"
      ],
      "execution_count": null,
      "outputs": [
        {
          "output_type": "stream",
          "text": [
            "Acc_val_max (Epoch)=  6\n",
            "Acc_val_max% =  97.50833333333333\n"
          ],
          "name": "stdout"
        },
        {
          "output_type": "display_data",
          "data": {
            "image/png": "[encoded data removed]",
            "text/plain": [
              "<Figure size 576x432 with 1 Axes>"
            ]
          },
          "metadata": {
            "tags": []
          }
        },
        {
          "output_type": "display_data",
          "data": {
            "image/png": "[encoded data removed]",
            "text/plain": [
              "<Figure size 576x432 with 1 Axes>"
            ]
          },
          "metadata": {
            "tags": []
          }
        }
      ]
    },
    {
      "cell_type": "markdown",
      "metadata": {
        "id": "h_ycSlHqVg-c"
      },
      "source": [
        "**Step 5 Predecir usando el modelo (predict)**"
      ]
    },
    {
      "cell_type": "code",
      "metadata": {
        "id": "kLp2hikyc92K",
        "outputId": "fdf0b005-0af2-43ac-c9e3-e4ded0ffb34b",
        "colab": {
          "base_uri": "https://localhost:8080/",
          "height": 406
        }
      },
      "source": [
        "# Step 5 Predecir un resultado (predict)\n",
        "#@title Seleccionar Elemento de prueba { run: \"auto\" }\n",
        "\n",
        "Posición_de_la_muestra = 6037 #@param {type:\"slider\", min:0, max:9999, step:1}\n",
        "n = Posición_de_la_muestra # indice de prueba\n",
        "scores = model.predict(test_images[n:n+1])\n",
        "print(\"Número Identificado por la NN: \", np.argmax(scores))\n",
        "_=plt.imshow(test_images[n])\n",
        "_=plt.title(str(\"Dibujo a identificar: \"+str(test_labels[n])))"
      ],
      "execution_count": null,
      "outputs": [
        {
          "output_type": "stream",
          "text": [
            "Número Identificado por la NN:  4\n"
          ],
          "name": "stdout"
        },
        {
          "output_type": "display_data",
          "data": {
            "image/png": "[encoded data removed]",
            "text/plain": [
              "<Figure size 576x432 with 1 Axes>"
            ]
          },
          "metadata": {
            "tags": []
          }
        }
      ]
    },
    {
      "cell_type": "markdown",
      "metadata": {
        "id": "DQCyzD3-Qbqf"
      },
      "source": [
        "# GPU NvidiaT4"
      ]
    },
    {
      "cell_type": "code",
      "metadata": {
        "id": "_XB0NY9pp7b7",
        "outputId": "58a7dc3e-97a9-45a6-cf34-b9924e2c39c1",
        "colab": {
          "base_uri": "https://localhost:8080/",
          "height": 311
        }
      },
      "source": [
        "!nvidia-smi"
      ],
      "execution_count": null,
      "outputs": [
        {
          "output_type": "stream",
          "text": [
            "Fri Jul 12 18:09:46 2019       \n",
            "+-----------------------------------------------------------------------------+\n",
            "| NVIDIA-SMI 418.67       Driver Version: 410.79       CUDA Version: 10.0     |\n",
            "|-------------------------------+----------------------+----------------------+\n",
            "| GPU  Name        Persistence-M| Bus-Id        Disp.A | Volatile Uncorr. ECC |\n",
            "| Fan  Temp  Perf  Pwr:Usage/Cap|         Memory-Usage | GPU-Util  Compute M. |\n",
            "|===============================+======================+======================|\n",
            "|   0  Tesla T4            Off  | 00000000:00:04.0 Off |                    0 |\n",
            "| N/A   47C    P8    15W /  70W |      0MiB / 15079MiB |      0%      Default |\n",
            "+-------------------------------+----------------------+----------------------+\n",
            "                                                                               \n",
            "+-----------------------------------------------------------------------------+\n",
            "| Processes:                                                       GPU Memory |\n",
            "|  GPU       PID   Type   Process name                             Usage      |\n",
            "|=============================================================================|\n",
            "|  No running processes found                                                 |\n",
            "+-----------------------------------------------------------------------------+\n"
          ],
          "name": "stdout"
        }
      ]
    },
    {
      "cell_type": "code",
      "metadata": {
        "id": "yL3JSag6KcVI",
        "outputId": "dc731ecf-5775-4c34-9b71-42d816f436cc",
        "colab": {
          "base_uri": "https://localhost:8080/",
          "height": 33
        }
      },
      "source": [
        "import tensorflow as tf\n",
        "tf.__version__"
      ],
      "execution_count": null,
      "outputs": [
        {
          "output_type": "execute_result",
          "data": {
            "text/plain": [
              "'1.14.0'"
            ]
          },
          "metadata": {
            "tags": []
          },
          "execution_count": 10
        }
      ]
    }
  ]
}